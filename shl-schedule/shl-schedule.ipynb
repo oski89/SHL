{
 "cells": [
  {
   "cell_type": "code",
   "execution_count": null,
   "id": "10da5799-0aa3-4692-b670-66d8e38a8beb",
   "metadata": {},
   "outputs": [],
   "source": [
    "import pandas as pd"
   ]
  },
  {
   "cell_type": "code",
   "execution_count": null,
   "id": "12baa62d-3281-404a-84c0-37847f551235",
   "metadata": {},
   "outputs": [],
   "source": [
    "# Save csv file as dataframe\n",
    "df = pd.read_csv('shl-schedule.csv')"
   ]
  },
  {
   "cell_type": "code",
   "execution_count": null,
   "id": "1dd37816-139e-4fad-be2e-80657516d12f",
   "metadata": {},
   "outputs": [],
   "source": [
    "# Initiate list hemmastreak and bortastreak\n",
    "hemmastreak = []\n",
    "bortastreak = []"
   ]
  },
  {
   "cell_type": "code",
   "execution_count": null,
   "id": "190827bb-6cb9-4ec5-8630-669edb6313bd",
   "metadata": {},
   "outputs": [],
   "source": [
    "# Create dictionaries with unique teams vs streaks\n",
    "teams = set(df['Hemmalag'])\n",
    "streaks = [0]*len(teams)\n",
    "d_hemmastreak = dict(zip(teams,streaks))\n",
    "d_bortastreak = dict(zip(teams,streaks))"
   ]
  },
  {
   "cell_type": "code",
   "execution_count": null,
   "id": "3e179c59-7ceb-48af-9183-a1d67313c5c1",
   "metadata": {},
   "outputs": [],
   "source": [
    "# Loop through df to build hemmastreak and bortastreak lists\n",
    "for idx in range(0,len(df)):\n",
    "    hl = df['Hemmalag'][idx]\n",
    "    bl = df['Bortalag'][idx]\n",
    "\n",
    "    # Hemmastreak\n",
    "    d_hemmastreak[hl] += 1\n",
    "    hemmastreak.append(d_hemmastreak[hl])\n",
    "    d_hemmastreak[bl] = 0\n",
    "\n",
    "    # Bortastreak\n",
    "    d_bortastreak[bl] += 1\n",
    "    bortastreak.append(d_bortastreak[bl])\n",
    "    d_bortastreak[hl] = 0\n",
    "\n",
    "df['Hemmastreak'] = hemmastreak\n",
    "df['Bortastreak'] = bortastreak"
   ]
  },
  {
   "cell_type": "code",
   "execution_count": null,
   "id": "d1175c7b-b5f6-4b9f-a7a5-98ca8cf424aa",
   "metadata": {},
   "outputs": [],
   "source": [
    "# Write to csv file\n",
    "df.to_csv('shl-schedule-streaks.csv')"
   ]
  }
 ],
 "metadata": {
  "kernelspec": {
   "display_name": "Python 3 (ipykernel)",
   "language": "python",
   "name": "python3"
  },
  "language_info": {
   "codemirror_mode": {
    "name": "ipython",
    "version": 3
   },
   "file_extension": ".py",
   "mimetype": "text/x-python",
   "name": "python",
   "nbconvert_exporter": "python",
   "pygments_lexer": "ipython3",
   "version": "3.11.7"
  }
 },
 "nbformat": 4,
 "nbformat_minor": 5
}
