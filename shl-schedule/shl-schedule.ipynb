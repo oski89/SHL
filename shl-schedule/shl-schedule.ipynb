{
 "cells": [
  {
   "cell_type": "code",
   "execution_count": 2,
   "id": "10da5799-0aa3-4692-b670-66d8e38a8beb",
   "metadata": {},
   "outputs": [],
   "source": [
    "import pandas as pd"
   ]
  },
  {
   "cell_type": "code",
   "execution_count": 4,
   "id": "12baa62d-3281-404a-84c0-37847f551235",
   "metadata": {},
   "outputs": [],
   "source": [
    "# Save csv file as dataframe\n",
    "df = pd.read_csv('shl-schedule.csv')"
   ]
  },
  {
   "cell_type": "code",
   "execution_count": 6,
   "id": "1dd37816-139e-4fad-be2e-80657516d12f",
   "metadata": {},
   "outputs": [],
   "source": [
    "# Create list hemmastreak\n",
    "hemmastreak = []"
   ]
  },
  {
   "cell_type": "code",
   "execution_count": 8,
   "id": "190827bb-6cb9-4ec5-8630-669edb6313bd",
   "metadata": {},
   "outputs": [],
   "source": [
    "# Create dictionary with unique teams vs streak\n",
    "teams = set(df['Hemmalag'])\n",
    "streaks = [0]*len(teams)\n",
    "d_streaks = dict(zip(teams,streaks))"
   ]
  },
  {
   "cell_type": "code",
   "execution_count": 10,
   "id": "3e179c59-7ceb-48af-9183-a1d67313c5c1",
   "metadata": {},
   "outputs": [],
   "source": [
    "# Loop through df to build hemmastreak list\n",
    "for idx in range(0,len(df)):\n",
    "    hl = df['Hemmalag'][idx]\n",
    "    bl = df['Bortalag'][idx]\n",
    "    \n",
    "    d_streaks[hl] += 1\n",
    "    hemmastreak.append(d_streaks[hl])\n",
    "    d_streaks[bl] = 0\n",
    "\n",
    "df['Hemmastreak'] = hemmastreak"
   ]
  },
  {
   "cell_type": "code",
   "execution_count": 14,
   "id": "d1175c7b-b5f6-4b9f-a7a5-98ca8cf424aa",
   "metadata": {},
   "outputs": [],
   "source": [
    "df.to_csv('shl-schedule-streaks.csv')"
   ]
  },
  {
   "cell_type": "code",
   "execution_count": null,
   "id": "c32f075e-b47d-433c-8061-3a7e12ba5533",
   "metadata": {},
   "outputs": [],
   "source": []
  }
 ],
 "metadata": {
  "kernelspec": {
   "display_name": "Python 3 (ipykernel)",
   "language": "python",
   "name": "python3"
  },
  "language_info": {
   "codemirror_mode": {
    "name": "ipython",
    "version": 3
   },
   "file_extension": ".py",
   "mimetype": "text/x-python",
   "name": "python",
   "nbconvert_exporter": "python",
   "pygments_lexer": "ipython3",
   "version": "3.11.7"
  }
 },
 "nbformat": 4,
 "nbformat_minor": 5
}
